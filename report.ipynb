{
 "cells": [
  {
   "cell_type": "markdown",
   "metadata": {},
   "source": [
    "# Bayesian Data Analysis Project: Gene Cluster Analysis"
   ]
  },
  {
   "cell_type": "markdown",
   "metadata": {},
   "source": [
    "## Introduction"
   ]
  },
  {
   "cell_type": "markdown",
   "metadata": {},
   "source": [
    "## Methods and Results"
   ]
  },
  {
   "cell_type": "code",
   "execution_count": 1,
   "metadata": {
    "collapsed": true
   },
   "outputs": [],
   "source": [
    "%matplotlib inline\n",
    "import matplotlib\n",
    "import numpy as np\n",
    "import matplotlib.pyplot as plt\n",
    "from sklearn.manifold import TSNE\n",
    "import gzip"
   ]
  },
  {
   "cell_type": "code",
   "execution_count": 3,
   "metadata": {
    "collapsed": false
   },
   "outputs": [],
   "source": [
    "genes = []\n",
    "counts = []\n",
    "with gzip.open('data/singlecelldata_HSCi_umitab.txt.gz','r') as f:\n",
    "    cells = f.next().strip().split('\\t')\n",
    "    cells = map(lambda s: s.replace('\\\"',''),cells)\n",
    "    for l in f:\n",
    "        l = l.strip().split('\\t')\n",
    "        genes += [l[0].replace('\\\"','')]\n",
    "        counts += [map(int,l[1:])]\n",
    "\n",
    "diff_genes  = {\n",
    "    'Erythroid_Meg':['Klf1','Gata1','Mpl','Epor','Vwf','Zfpm1','Fhl1','Gpr64','Sdpr','Gypa','Tfrc','Hbb-b1', 'Hbb-y'],\n",
    "    'Myeloid':['Gfi1','Sfpi1','Cebpb','Cebpa','Mpo','Csf2rb','Csf1r','Gfi1b','Hk3','Csf2ra','Csf3r','Sp1','Fcgr3','Fcgr4','Cxcr1'],\n",
    "    'Lymphoid':['Tcf3','Ikzf1','Notch1','Flt3','Il7r','Ebf1','E2a','Pax5','Dntt','Btg2','Tcf7','Rag1','Rag2','Ccr7','Ptprc','Ly6a','Ly6d', 'Cd3', 'Ikzf3', 'Cd52', 'Blnk'],\n",
    "    'HSC':['Slamf1','Itga2b','Kit','Ly6a','Bmi1','Gata2','Hlf','Meis1','Mpl','Mcl1','Gfi1','Gfi1b','Hoxb5']}\n",
    "\n",
    "diff_genes_list =  set(diff_genes['Erythroid_Meg'] + diff_genes['Myeloid'] + diff_genes['Lymphoid'] +diff_genes['HSC'])"
   ]
  },
  {
   "cell_type": "code",
   "execution_count": 4,
   "metadata": {
    "collapsed": true
   },
   "outputs": [],
   "source": [
    "cell_names = gzip.open('data/singlecelldata_HSCi_umitab.txt.gz','r').readlines()[0].strip().replace(\"\\\"\", \"\").split('\\t')"
   ]
  },
  {
   "cell_type": "code",
   "execution_count": 5,
   "metadata": {
    "collapsed": false
   },
   "outputs": [
    {
     "name": "stdout",
     "output_type": "stream",
     "text": [
      "no. of genes: 27297.\n",
      "no. of rna sequences: 1536.\n"
     ]
    }
   ],
   "source": [
    "print \"no. of genes: %i.\" % len(genes)\n",
    "print \"no. of rna sequences: %i.\" % len(counts[0])"
   ]
  },
  {
   "cell_type": "code",
   "execution_count": 6,
   "metadata": {
    "collapsed": false
   },
   "outputs": [
    {
     "name": "stdout",
     "output_type": "stream",
     "text": [
      "gene E2a not found.\n",
      "gene Cd3 not found.\n"
     ]
    }
   ],
   "source": [
    "diff_genes_id = []\n",
    "diff_genes_found = []\n",
    "for gd in diff_genes_list:\n",
    "    found = False\n",
    "    for i,g in enumerate(genes):\n",
    "        g = g.split(';')[0].strip()\n",
    "        if gd == g:\n",
    "            diff_genes_id += [i]\n",
    "            diff_genes_found += [gd]\n",
    "            found = True\n",
    "            continue\n",
    "    if not found:\n",
    "        print \"gene %s not found.\" % gd\n",
    "\n",
    "diff_genes_id = np.asarray(diff_genes_id,dtype='int64')"
   ]
  },
  {
   "cell_type": "code",
   "execution_count": 7,
   "metadata": {
    "collapsed": true
   },
   "outputs": [],
   "source": [
    "cells_cluster = []\n",
    "cluster = []\n",
    "with open('data/initial_cluster_assignments_MAP.csv','r') as f:\n",
    "    for l in f:\n",
    "        l = l.split(',')\n",
    "        cells_cluster += [l[0]]\n",
    "        cluster += [int(l[1])]"
   ]
  },
  {
   "cell_type": "code",
   "execution_count": 8,
   "metadata": {
    "collapsed": true
   },
   "outputs": [],
   "source": [
    "idxs = []\n",
    "cluster_ordered = []\n",
    "for i in range(len(cell_names)):\n",
    "    cn = cell_names[i]\n",
    "    if cn in cells_cluster:\n",
    "        idxs += [i] \n",
    "        idx = list(np.where(np.array(cells_cluster) == cn)[0])[0]\n",
    "        cluster_ordered += [cluster[idx]]\n",
    "    # else:\n",
    "        # print \"cell %s is not in cluster data.\" % cn \n",
    "idxs = np.asarray(idxs, dtype='int64')"
   ]
  },
  {
   "cell_type": "code",
   "execution_count": null,
   "metadata": {
    "collapsed": true
   },
   "outputs": [],
   "source": [
    "x = np.asarray(counts)\n",
    "x_train = x[diff_genes_id, :]\n",
    "x_train = x_train[:, idxs].T\n",
    "t_train = np.array(cluster_ordered, dtype='int64') - 1\n",
    "\n",
    "print x_train.shape\n",
    "print t_train.shape"
   ]
  },
  {
   "cell_type": "code",
   "execution_count": null,
   "metadata": {
    "collapsed": true
   },
   "outputs": [],
   "source": []
  },
  {
   "cell_type": "markdown",
   "metadata": {},
   "source": [
    "## Conclusion"
   ]
  },
  {
   "cell_type": "code",
   "execution_count": null,
   "metadata": {
    "collapsed": true
   },
   "outputs": [],
   "source": []
  }
 ],
 "metadata": {
  "kernelspec": {
   "display_name": "Python 2",
   "language": "python",
   "name": "python2"
  },
  "language_info": {
   "codemirror_mode": {
    "name": "ipython",
    "version": 2
   },
   "file_extension": ".py",
   "mimetype": "text/x-python",
   "name": "python",
   "nbconvert_exporter": "python",
   "pygments_lexer": "ipython2",
   "version": "2.7.11"
  }
 },
 "nbformat": 4,
 "nbformat_minor": 0
}
